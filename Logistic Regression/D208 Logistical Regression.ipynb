{
 "cells": [
  {
   "cell_type": "markdown",
   "id": "7bd0d7de",
   "metadata": {},
   "source": [
    "# Performance Assessment D208 - Logistical Regression"
   ]
  },
  {
   "cell_type": "markdown",
   "id": "44ad349a",
   "metadata": {},
   "source": [
    "#### Ali Zaheer azaheer@wgu.edu"
   ]
  },
  {
   "cell_type": "markdown",
   "id": "2eb9cfeb",
   "metadata": {},
   "source": [
    "## Part I: Research Question\n",
    "### A.  Describe the purpose of this data analysis by doing the following:\n",
    "#### 1.  Summarize one research question that is relevant to a real-world organizational situation captured in the data set you have selected and that you will answer using logistic regression.\n",
    "\n",
    "Are the following predictors able to help identify which customer are at high risk of churn?\n",
    "• Children\n",
    "• Income\n",
    "• Tenure\n",
    "• MonthlyCharge\n",
    "• Age\n",
    "• Gender\n",
    "• Marital\n",
    "\n",
    "### 2.  Define the objectives or goals of the data analysis. Ensure that your objectives or goals are reasonable within the scope of the data dictionary and are represented in the available data.\n",
    "\n",
    "The stakeholders can review the data provided by the analysis and create incentives to keep the customers that are likely to terminate their contracts with the company. This will lead to a lower churn rate."
   ]
  },
  {
   "cell_type": "markdown",
   "id": "c688e446",
   "metadata": {},
   "source": [
    "## Part II: Method Justification\n",
    "### B.  Describe logistic regression methods by doing the following:\n",
    "### 1.  Summarize the assumptions of a logistic regression model.\n",
    "\n",
    "This analysis will be based on Bernoulli distribution to classify because the dependent variables are binary. There will be 'Yes' and 'No' restrictions placed on the predicted values. This will only predict the probability rather than the outcome. The algorithm will find the 'S-curve' and Maximum Likelihood Estimation to classify and estimate accuracy.\n",
    "\n",
    "\n",
    "### 2.  Describe the benefits of using the tool(s) you have chosen (i.e., Python, R, or both) in support of various phases of the analysis.\n",
    "\n",
    "I will utilize Python due to my previous interaction with it and its Pandas, matplotlib and Scipy modules. Additionally, I will be using Jupyter notebook as the IDE because it provides a user-friendly experience. Pandas is an excellent package for working with data set as it makes it easy to load and manipulate columns and/or rows to replace null values. Matplotlib plot is an easy way to create graphs for identifying outliers using histograms and/or boxplots.\n",
    "\n",
    "### 3.  Explain why logistic regression is an appropriate technique to analyze the research question summarized in Part I.\n",
    "\n",
    "Logistic regression is a classification algorithm, it will predict customers and/or features are at high risk of churn?\n"
   ]
  },
  {
   "cell_type": "markdown",
   "id": "fbd3999a",
   "metadata": {},
   "source": [
    "## Part III: Data Preparation\n",
    "### C.  Summarize the data preparation process for logistic regression by doing the following:\n",
    "#### 1.  Describe your data preparation goals and the data manipulations that will be used to achieve the goals.\n",
    "\n",
    "    1. Sort the binary data by sucess (1) or failure (0)\n",
    "    2. Calculate the logit for the data row\n",
    "    3. Calculate the exponential of the logit Exp(L)\n",
    "    4. Calculate the probabilty of the data row P(X)\n",
    "    5. Calculate the Maximum log-likihood (MML)"
   ]
  },
  {
   "cell_type": "markdown",
   "id": "38516c76",
   "metadata": {},
   "source": [
    "#### 2.  Discuss the summary statistics, including the target variable and all predictor variables that you will need to gather from the data set to answer the research question."
   ]
  },
  {
   "cell_type": "markdown",
   "id": "b5f51ff6",
   "metadata": {},
   "source": [
    "#### Summary Statistics"
   ]
  },
  {
   "cell_type": "markdown",
   "id": "f789174e",
   "metadata": {},
   "source": [
    "I will remove the following irrelevant columns from the DataFrame:\n",
    "\n",
    "\"CaseOrder\", \"Customer_id\", \"Interaction\",\"Outage_sec_perweek\", \"UID\", \"City\", \"State\",\n",
    "\"Techie\",\"PaperlessBilling\",\"Yearly_equip_failure\",\"County\", \"Zip\", \"Lat\", \"Lng\", \"Population\", \n",
    "\"Area\", \"TimeZone\", \"Job\", \"Marital\", \"PaymentMethod\",\"Bandwidth_GB_Year\", \"DeviceProtection\",\n",
    "\"OnlineBackup\",\"OnlineBackup\",\"OnlineBackup\", \"OnlineBackup\",\"Port_modem\",\"OnlineSecurity\", \n",
    "\"Multiple\",\"Phone\",\"TechSupport\",\"Contract\",\"Tablet\",\"InternetService\", \"StreamingTV\", \"StreamingMovies\", \n",
    "\"Timely_Response\", \"Timely_Fixes\", \"Timely_Replacements\",\"Reliability\",\"Options\", \"Respectful_Response\",\"Courteous_Exchange\",\"Evidence_of_active_listening\",\"Email\"\n",
    "\n",
    "The average customer age is 53 years old with a standard deviation of 20 years. They have 2 children on average with a standard deviation of 2 kids. Their average income is 39,806 dollars with a standard deviation of 30,000, and they paid a monthly charge of approximately 173 dollars with 4 GBs/year."
   ]
  },
  {
   "cell_type": "markdown",
   "id": "45d8cb07",
   "metadata": {},
   "source": [
    "##### Continous Predictor:"
   ]
  },
  {
   "cell_type": "markdown",
   "id": "06987e19",
   "metadata": {},
   "source": [
    "    • Children\n",
    "    • Income\n",
    "    • Tenure\n",
    "    • MonthlyCharge\n",
    "    • Age"
   ]
  },
  {
   "cell_type": "markdown",
   "id": "53113403",
   "metadata": {},
   "source": [
    "##### Cateorical Predictor:\n",
    "    • Gender\n",
    "    • Marital"
   ]
  },
  {
   "cell_type": "markdown",
   "id": "bda7860a",
   "metadata": {},
   "source": [
    "#### 3.  Explain the steps used to prepare the data for the analysis, including the annotated code.\n",
    "\n",
    "    1. Import dataset to a DataFrame in Pandas.\n",
    "    2. Review the summary statistics of DataFrame, structure & data types.\n",
    "    3. Remove irrelavent columns from the DataFrame \"Customer_id\", \"zip code\".\n",
    "    4. Review univariate & bivariate visualizations.\n",
    "    5. provide a copy of the prepared dataset \"prepared_dataset.csv\" for use in KNN model"
   ]
  },
  {
   "cell_type": "code",
   "execution_count": 1,
   "id": "f68ab560",
   "metadata": {},
   "outputs": [],
   "source": [
    "import pandas as pd\n",
    "import jedi\n",
    "\n",
    "# Visual libraries\n",
    "import seaborn as sns\n",
    "import matplotlib.pyplot as plt\n",
    "\n",
    "#Show all Columns and Rows\n",
    "pd.options.display.max_columns = None\n",
    "pd.options.display.max_rows = None\n",
    "\n",
    "# Load data set\n",
    "df = pd.read_csv('churn_clean.csv')\n",
    "\n",
    "# Amend columns with no names\n",
    "df = df.rename(columns=({ 'Item1': 'Timely_Response', 'Item2':'Timely_Fixes', 'Item3':'Timely_Replacements', \n",
    "                         'Item4':'Reliability', 'Item5':'Options', 'Item6':'Respectful_Response',\n",
    "                         'Item7':'Courteous_Exchange', 'Item8':'Evidence_of_active_listening'}))"
   ]
  },
  {
   "cell_type": "code",
   "execution_count": 2,
   "id": "bd07c339",
   "metadata": {},
   "outputs": [],
   "source": [
    "# Dropping columns that I think are not relavant to the analysis\n",
    "churndf = df.drop(columns= [\"CaseOrder\", \"Customer_id\", \"Interaction\",\"Outage_sec_perweek\", \"UID\", \"City\", \"State\", \n",
    "                            \"Techie\",\"PaperlessBilling\",\"Yearly_equip_failure\",\"County\", \"Zip\", \"Lat\", \"Lng\", \"Population\", \n",
    "                            \"Area\", \"TimeZone\", \"Job\", \"PaymentMethod\",\"Bandwidth_GB_Year\", \"DeviceProtection\",\n",
    "                            \"OnlineBackup\",\"OnlineBackup\",\"OnlineBackup\", \"OnlineBackup\",\"Port_modem\",\"OnlineSecurity\", \n",
    "                            \"Multiple\",\"Phone\",\"TechSupport\",\"Contract\",\"Tablet\",\"InternetService\", \"StreamingTV\", \"StreamingMovies\", \n",
    "                            \"Timely_Response\", \"Timely_Fixes\", \"Timely_Replacements\",\"Reliability\",\"Options\",\n",
    "                            \"Respectful_Response\",\"Courteous_Exchange\",\"Evidence_of_active_listening\",\"Email\", \"Contacts\"\n",
    "                           ]) "
   ]
  },
  {
   "cell_type": "code",
   "execution_count": 3,
   "id": "d1b230b7",
   "metadata": {},
   "outputs": [
    {
     "data": {
      "text/html": [
       "<div>\n",
       "<style scoped>\n",
       "    .dataframe tbody tr th:only-of-type {\n",
       "        vertical-align: middle;\n",
       "    }\n",
       "\n",
       "    .dataframe tbody tr th {\n",
       "        vertical-align: top;\n",
       "    }\n",
       "\n",
       "    .dataframe thead th {\n",
       "        text-align: right;\n",
       "    }\n",
       "</style>\n",
       "<table border=\"1\" class=\"dataframe\">\n",
       "  <thead>\n",
       "    <tr style=\"text-align: right;\">\n",
       "      <th></th>\n",
       "      <th>Children</th>\n",
       "      <th>Age</th>\n",
       "      <th>Income</th>\n",
       "      <th>Marital</th>\n",
       "      <th>Gender</th>\n",
       "      <th>Churn</th>\n",
       "      <th>Tenure</th>\n",
       "      <th>MonthlyCharge</th>\n",
       "    </tr>\n",
       "  </thead>\n",
       "  <tbody>\n",
       "    <tr>\n",
       "      <th>0</th>\n",
       "      <td>0</td>\n",
       "      <td>68</td>\n",
       "      <td>28561.99</td>\n",
       "      <td>Widowed</td>\n",
       "      <td>Male</td>\n",
       "      <td>No</td>\n",
       "      <td>6.795513</td>\n",
       "      <td>172.455519</td>\n",
       "    </tr>\n",
       "    <tr>\n",
       "      <th>1</th>\n",
       "      <td>1</td>\n",
       "      <td>27</td>\n",
       "      <td>21704.77</td>\n",
       "      <td>Married</td>\n",
       "      <td>Female</td>\n",
       "      <td>Yes</td>\n",
       "      <td>1.156681</td>\n",
       "      <td>242.632554</td>\n",
       "    </tr>\n",
       "    <tr>\n",
       "      <th>2</th>\n",
       "      <td>4</td>\n",
       "      <td>50</td>\n",
       "      <td>9609.57</td>\n",
       "      <td>Widowed</td>\n",
       "      <td>Female</td>\n",
       "      <td>No</td>\n",
       "      <td>15.754144</td>\n",
       "      <td>159.947583</td>\n",
       "    </tr>\n",
       "  </tbody>\n",
       "</table>\n",
       "</div>"
      ],
      "text/plain": [
       "   Children  Age    Income  Marital  Gender Churn     Tenure  MonthlyCharge\n",
       "0         0   68  28561.99  Widowed    Male    No   6.795513     172.455519\n",
       "1         1   27  21704.77  Married  Female   Yes   1.156681     242.632554\n",
       "2         4   50   9609.57  Widowed  Female    No  15.754144     159.947583"
      ]
     },
     "execution_count": 3,
     "metadata": {},
     "output_type": "execute_result"
    }
   ],
   "source": [
    "# display data set with all the columns\n",
    "churndf.head(n=3)"
   ]
  },
  {
   "cell_type": "code",
   "execution_count": 4,
   "id": "476dce18",
   "metadata": {},
   "outputs": [
    {
     "data": {
      "text/plain": [
       "(10000, 8)"
      ]
     },
     "execution_count": 4,
     "metadata": {},
     "output_type": "execute_result"
    }
   ],
   "source": [
    "# count of rows and columns\n",
    "churndf.shape"
   ]
  },
  {
   "cell_type": "code",
   "execution_count": 5,
   "id": "31afd761",
   "metadata": {
    "scrolled": true
   },
   "outputs": [
    {
     "data": {
      "text/plain": [
       "Children         0\n",
       "Age              0\n",
       "Income           0\n",
       "Marital          0\n",
       "Gender           0\n",
       "Churn            0\n",
       "Tenure           0\n",
       "MonthlyCharge    0\n",
       "dtype: int64"
      ]
     },
     "execution_count": 5,
     "metadata": {},
     "output_type": "execute_result"
    }
   ],
   "source": [
    "# Validate there are no nulls\n",
    "churndf.isnull().sum()"
   ]
  },
  {
   "cell_type": "code",
   "execution_count": 6,
   "id": "137afeb3",
   "metadata": {},
   "outputs": [
    {
     "data": {
      "text/html": [
       "<div>\n",
       "<style scoped>\n",
       "    .dataframe tbody tr th:only-of-type {\n",
       "        vertical-align: middle;\n",
       "    }\n",
       "\n",
       "    .dataframe tbody tr th {\n",
       "        vertical-align: top;\n",
       "    }\n",
       "\n",
       "    .dataframe thead th {\n",
       "        text-align: right;\n",
       "    }\n",
       "</style>\n",
       "<table border=\"1\" class=\"dataframe\">\n",
       "  <thead>\n",
       "    <tr style=\"text-align: right;\">\n",
       "      <th></th>\n",
       "      <th>Children</th>\n",
       "      <th>Age</th>\n",
       "      <th>Income</th>\n",
       "      <th>Tenure</th>\n",
       "      <th>MonthlyCharge</th>\n",
       "    </tr>\n",
       "  </thead>\n",
       "  <tbody>\n",
       "    <tr>\n",
       "      <th>count</th>\n",
       "      <td>10000.0000</td>\n",
       "      <td>10000.000000</td>\n",
       "      <td>10000.000000</td>\n",
       "      <td>10000.000000</td>\n",
       "      <td>10000.000000</td>\n",
       "    </tr>\n",
       "    <tr>\n",
       "      <th>mean</th>\n",
       "      <td>2.0877</td>\n",
       "      <td>53.078400</td>\n",
       "      <td>39806.926771</td>\n",
       "      <td>34.526188</td>\n",
       "      <td>172.624816</td>\n",
       "    </tr>\n",
       "    <tr>\n",
       "      <th>std</th>\n",
       "      <td>2.1472</td>\n",
       "      <td>20.698882</td>\n",
       "      <td>28199.916702</td>\n",
       "      <td>26.443063</td>\n",
       "      <td>42.943094</td>\n",
       "    </tr>\n",
       "    <tr>\n",
       "      <th>min</th>\n",
       "      <td>0.0000</td>\n",
       "      <td>18.000000</td>\n",
       "      <td>348.670000</td>\n",
       "      <td>1.000259</td>\n",
       "      <td>79.978860</td>\n",
       "    </tr>\n",
       "    <tr>\n",
       "      <th>25%</th>\n",
       "      <td>0.0000</td>\n",
       "      <td>35.000000</td>\n",
       "      <td>19224.717500</td>\n",
       "      <td>7.917694</td>\n",
       "      <td>139.979239</td>\n",
       "    </tr>\n",
       "    <tr>\n",
       "      <th>50%</th>\n",
       "      <td>1.0000</td>\n",
       "      <td>53.000000</td>\n",
       "      <td>33170.605000</td>\n",
       "      <td>35.430507</td>\n",
       "      <td>167.484700</td>\n",
       "    </tr>\n",
       "    <tr>\n",
       "      <th>75%</th>\n",
       "      <td>3.0000</td>\n",
       "      <td>71.000000</td>\n",
       "      <td>53246.170000</td>\n",
       "      <td>61.479795</td>\n",
       "      <td>200.734725</td>\n",
       "    </tr>\n",
       "    <tr>\n",
       "      <th>max</th>\n",
       "      <td>10.0000</td>\n",
       "      <td>89.000000</td>\n",
       "      <td>258900.700000</td>\n",
       "      <td>71.999280</td>\n",
       "      <td>290.160419</td>\n",
       "    </tr>\n",
       "  </tbody>\n",
       "</table>\n",
       "</div>"
      ],
      "text/plain": [
       "         Children           Age         Income        Tenure  MonthlyCharge\n",
       "count  10000.0000  10000.000000   10000.000000  10000.000000   10000.000000\n",
       "mean       2.0877     53.078400   39806.926771     34.526188     172.624816\n",
       "std        2.1472     20.698882   28199.916702     26.443063      42.943094\n",
       "min        0.0000     18.000000     348.670000      1.000259      79.978860\n",
       "25%        0.0000     35.000000   19224.717500      7.917694     139.979239\n",
       "50%        1.0000     53.000000   33170.605000     35.430507     167.484700\n",
       "75%        3.0000     71.000000   53246.170000     61.479795     200.734725\n",
       "max       10.0000     89.000000  258900.700000     71.999280     290.160419"
      ]
     },
     "execution_count": 6,
     "metadata": {},
     "output_type": "execute_result"
    }
   ],
   "source": [
    "# DataFrame statistics\n",
    "churndf.describe()"
   ]
  },
  {
   "cell_type": "markdown",
   "id": "34c61171",
   "metadata": {},
   "source": [
    "#### 4.  Generate univariate and bivariate visualizations of the distributions of variables in the cleaned data set. Include the target variable in your bivariate visualizations."
   ]
  },
  {
   "cell_type": "markdown",
   "id": "1559ad28",
   "metadata": {},
   "source": [
    "#### Univariate Statistics"
   ]
  },
  {
   "cell_type": "code",
   "execution_count": 7,
   "id": "7faac5b3",
   "metadata": {},
   "outputs": [
    {
     "data": {
      "image/png": "[encoded data removed]",
      "text/plain": [
       "<Figure size 432x288 with 6 Axes>"
      ]
     },
     "metadata": {
      "needs_background": "light"
     },
     "output_type": "display_data"
    }
   ],
   "source": [
    "churndf[['Age','Children','Income','Tenure','MonthlyCharge']].hist()\n",
    "plt.tight_layout()"
   ]
  },
  {
   "cell_type": "markdown",
   "id": "293ab3c1",
   "metadata": {},
   "source": [
    "#### Bivariate Statistics"
   ]
  },
  {
   "cell_type": "code",
   "execution_count": 8,
   "id": "4241e887",
   "metadata": {},
   "outputs": [
    {
     "data": {
      "image/png": "[encoded data removed]",
      "text/plain": [
       "<Figure size 432x288 with 1 Axes>"
      ]
     },
     "metadata": {
      "needs_background": "light"
     },
     "output_type": "display_data"
    }
   ],
   "source": [
    "# bivariate\n",
    "sns.scatterplot(x=churndf['Children'], y=churndf['Churn'])\n",
    "plt.show()"
   ]
  },
  {
   "cell_type": "code",
   "execution_count": 9,
   "id": "0c842b03",
   "metadata": {},
   "outputs": [
    {
     "data": {
      "image/png": "[encoded data removed]",
      "text/plain": [
       "<Figure size 432x288 with 1 Axes>"
      ]
     },
     "metadata": {
      "needs_background": "light"
     },
     "output_type": "display_data"
    }
   ],
   "source": [
    "sns.scatterplot(x=churndf['Income'], y=churndf['Churn'])\n",
    "plt.show()"
   ]
  },
  {
   "cell_type": "code",
   "execution_count": 10,
   "id": "f2cda209",
   "metadata": {},
   "outputs": [
    {
     "data": {
      "image/png": "[encoded data removed]",
      "text/plain": [
       "<Figure size 432x288 with 1 Axes>"
      ]
     },
     "metadata": {
      "needs_background": "light"
     },
     "output_type": "display_data"
    }
   ],
   "source": [
    "sns.scatterplot(x=churndf['Tenure'], y=churndf['Churn'])\n",
    "plt.show()"
   ]
  },
  {
   "cell_type": "code",
   "execution_count": 11,
   "id": "f4df15aa",
   "metadata": {},
   "outputs": [
    {
     "data": {
      "image/png": "[encoded data removed]",
      "text/plain": [
       "<Figure size 432x288 with 1 Axes>"
      ]
     },
     "metadata": {
      "needs_background": "light"
     },
     "output_type": "display_data"
    }
   ],
   "source": [
    "sns.scatterplot(x=churndf['MonthlyCharge'], y=churndf['Churn'])\n",
    "plt.show()"
   ]
  },
  {
   "cell_type": "code",
   "execution_count": 12,
   "id": "c323f5f1",
   "metadata": {},
   "outputs": [
    {
     "data": {
      "image/png": "[encoded data removed]",
      "text/plain": [
       "<Figure size 432x288 with 1 Axes>"
      ]
     },
     "metadata": {
      "needs_background": "light"
     },
     "output_type": "display_data"
    }
   ],
   "source": [
    "sns.scatterplot(x=churndf['Age'], y=churndf['Churn'])\n",
    "plt.show()"
   ]
  },
  {
   "cell_type": "markdown",
   "id": "2a279e9f",
   "metadata": {},
   "source": [
    "Scatterplot Summary: I was not able to find any correlation between the dataset and Churn"
   ]
  },
  {
   "cell_type": "code",
   "execution_count": 13,
   "id": "cf4aa0c7",
   "metadata": {},
   "outputs": [
    {
     "data": {
      "text/plain": [
       "No     7350\n",
       "Yes    2650\n",
       "Name: Churn, dtype: int64"
      ]
     },
     "execution_count": 13,
     "metadata": {},
     "output_type": "execute_result"
    }
   ],
   "source": [
    "# How does the data stack up in terms of Churn\n",
    "churndf['Churn'].value_counts()"
   ]
  },
  {
   "cell_type": "code",
   "execution_count": 14,
   "id": "6e2f2381",
   "metadata": {},
   "outputs": [
    {
     "data": {
      "image/png": "[encoded data removed]",
      "text/plain": [
       "<Figure size 432x288 with 1 Axes>"
      ]
     },
     "metadata": {
      "needs_background": "light"
     },
     "output_type": "display_data"
    }
   ],
   "source": [
    "# Count plot visualizes how the data stack up in terms of Churn\n",
    "sns.countplot(x='Churn', data=churndf, palette='hls')\n",
    "plt.show()"
   ]
  },
  {
   "cell_type": "markdown",
   "id": "31f0eea0",
   "metadata": {},
   "source": [
    "#### 5.  Provide a copy of the prepared data set."
   ]
  },
  {
   "cell_type": "code",
   "execution_count": 15,
   "id": "d41891b6",
   "metadata": {},
   "outputs": [],
   "source": [
    "# Prepared dataset in the root folder 'prepared_dataset.csv'\n",
    "churndf.to_csv('prepared_dataset.csv')"
   ]
  },
  {
   "cell_type": "markdown",
   "id": "2bf72415",
   "metadata": {},
   "source": [
    "## Part IV: Model Comparison and Analysis\n",
    "### D.  Compare an initial and a reduced logistic regression model by doing the following:\n",
    "#### 1.  Construct an initial logistic regression model from all predictors that were identified in Part C2"
   ]
  },
  {
   "cell_type": "code",
   "execution_count": 16,
   "id": "af42b0b6",
   "metadata": {},
   "outputs": [
    {
     "name": "stdout",
     "output_type": "stream",
     "text": [
      "Optimization terminated successfully.\n",
      "         Current function value: 0.341585\n",
      "         Iterations 8\n"
     ]
    },
    {
     "data": {
      "text/html": [
       "<table class=\"simpletable\">\n",
       "<caption>Logit Regression Results</caption>\n",
       "<tr>\n",
       "  <th>Dep. Variable:</th>         <td>Churn</td>      <th>  No. Observations:  </th>  <td> 10000</td> \n",
       "</tr>\n",
       "<tr>\n",
       "  <th>Model:</th>                 <td>Logit</td>      <th>  Df Residuals:      </th>  <td>  9992</td> \n",
       "</tr>\n",
       "<tr>\n",
       "  <th>Method:</th>                 <td>MLE</td>       <th>  Df Model:          </th>  <td>     7</td> \n",
       "</tr>\n",
       "<tr>\n",
       "  <th>Date:</th>            <td>Wed, 29 Dec 2021</td> <th>  Pseudo R-squ.:     </th>  <td>0.4092</td> \n",
       "</tr>\n",
       "<tr>\n",
       "  <th>Time:</th>                <td>12:32:47</td>     <th>  Log-Likelihood:    </th> <td> -3415.9</td>\n",
       "</tr>\n",
       "<tr>\n",
       "  <th>converged:</th>             <td>True</td>       <th>  LL-Null:           </th> <td> -5782.2</td>\n",
       "</tr>\n",
       "<tr>\n",
       "  <th>Covariance Type:</th>     <td>nonrobust</td>    <th>  LLR p-value:       </th>  <td> 0.000</td> \n",
       "</tr>\n",
       "</table>\n",
       "<table class=\"simpletable\">\n",
       "<tr>\n",
       "        <td></td>           <th>coef</th>     <th>std err</th>      <th>z</th>      <th>P>|z|</th>  <th>[0.025</th>    <th>0.975]</th>  \n",
       "</tr>\n",
       "<tr>\n",
       "  <th>Children</th>      <td>   -0.0089</td> <td>    0.014</td> <td>   -0.624</td> <td> 0.533</td> <td>   -0.037</td> <td>    0.019</td>\n",
       "</tr>\n",
       "<tr>\n",
       "  <th>Age</th>           <td>    0.0016</td> <td>    0.001</td> <td>    1.083</td> <td> 0.279</td> <td>   -0.001</td> <td>    0.004</td>\n",
       "</tr>\n",
       "<tr>\n",
       "  <th>Income</th>        <td> 8.527e-07</td> <td> 1.08e-06</td> <td>    0.791</td> <td> 0.429</td> <td>-1.26e-06</td> <td> 2.97e-06</td>\n",
       "</tr>\n",
       "<tr>\n",
       "  <th>Tenure</th>        <td>   -0.0739</td> <td>    0.002</td> <td>  -41.791</td> <td> 0.000</td> <td>   -0.077</td> <td>   -0.070</td>\n",
       "</tr>\n",
       "<tr>\n",
       "  <th>MonthlyCharge</th> <td>    0.0332</td> <td>    0.001</td> <td>   37.105</td> <td> 0.000</td> <td>    0.031</td> <td>    0.035</td>\n",
       "</tr>\n",
       "<tr>\n",
       "  <th>intercept</th>     <td>   -5.3337</td> <td>    0.181</td> <td>  -29.454</td> <td> 0.000</td> <td>   -5.689</td> <td>   -4.979</td>\n",
       "</tr>\n",
       "<tr>\n",
       "  <th>Gender</th>        <td>    0.1708</td> <td>    0.061</td> <td>    2.817</td> <td> 0.005</td> <td>    0.052</td> <td>    0.290</td>\n",
       "</tr>\n",
       "<tr>\n",
       "  <th>Marital</th>       <td>   -0.0107</td> <td>    0.078</td> <td>   -0.137</td> <td> 0.891</td> <td>   -0.163</td> <td>    0.142</td>\n",
       "</tr>\n",
       "</table>"
      ],
      "text/plain": [
       "<class 'statsmodels.iolib.summary.Summary'>\n",
       "\"\"\"\n",
       "                           Logit Regression Results                           \n",
       "==============================================================================\n",
       "Dep. Variable:                  Churn   No. Observations:                10000\n",
       "Model:                          Logit   Df Residuals:                     9992\n",
       "Method:                           MLE   Df Model:                            7\n",
       "Date:                Wed, 29 Dec 2021   Pseudo R-squ.:                  0.4092\n",
       "Time:                        12:32:47   Log-Likelihood:                -3415.9\n",
       "converged:                       True   LL-Null:                       -5782.2\n",
       "Covariance Type:            nonrobust   LLR p-value:                     0.000\n",
       "=================================================================================\n",
       "                    coef    std err          z      P>|z|      [0.025      0.975]\n",
       "---------------------------------------------------------------------------------\n",
       "Children         -0.0089      0.014     -0.624      0.533      -0.037       0.019\n",
       "Age               0.0016      0.001      1.083      0.279      -0.001       0.004\n",
       "Income         8.527e-07   1.08e-06      0.791      0.429   -1.26e-06    2.97e-06\n",
       "Tenure           -0.0739      0.002    -41.791      0.000      -0.077      -0.070\n",
       "MonthlyCharge     0.0332      0.001     37.105      0.000       0.031       0.035\n",
       "intercept        -5.3337      0.181    -29.454      0.000      -5.689      -4.979\n",
       "Gender            0.1708      0.061      2.817      0.005       0.052       0.290\n",
       "Marital          -0.0107      0.078     -0.137      0.891      -0.163       0.142\n",
       "=================================================================================\n",
       "\"\"\""
      ]
     },
     "execution_count": 16,
     "metadata": {},
     "output_type": "execute_result"
    }
   ],
   "source": [
    "import statsmodels.api as sm\n",
    "from sklearn import preprocessing\n",
    "\n",
    "# Initial model\n",
    "Initial_model = churndf.copy()\n",
    "\n",
    "# Convert categorical data to binary\n",
    "Initial_model['Churn'] = [1 if v == 'Yes' else 0 for v in Initial_model['Churn']]\n",
    "Initial_model['Gender'] = [1 if v == 'Male' else 0 for v in Initial_model['Gender']]\n",
    "Initial_model['Marital'] = [1 if v == 'Married' else 0 for v in Initial_model['Marital']]\n",
    "Initial_model['intercept'] =1\n",
    "# Create initial model with logit\n",
    "Initial_model_logit_model = sm.Logit(Initial_model['Churn'], Initial_model[['Children','Age','Income', 'Tenure','MonthlyCharge','intercept','Gender','Marital']]).fit()\n",
    "Initial_model_logit_model.summary()"
   ]
  },
  {
   "cell_type": "markdown",
   "id": "87cc00c6",
   "metadata": {},
   "source": [
    "#### 2.  Justify a statistically based variable selection procedure and a model evaluation metric to reduce the initial model in a way that aligns with the research question."
   ]
  },
  {
   "cell_type": "code",
   "execution_count": 17,
   "id": "0816ddd8",
   "metadata": {},
   "outputs": [],
   "source": [
    "from sklearn.tree import DecisionTreeClassifier\n",
    "churndf['Churn'] = [1 if v == 'Yes' else 0 for v in churndf['Churn']]\n",
    "churndf['Gender'] = [1 if v == 'Male' else 0 for v in churndf['Gender']]\n",
    "churndf['intercept'] =1\n",
    "churndf = pd.get_dummies(churndf)"
   ]
  },
  {
   "cell_type": "code",
   "execution_count": 18,
   "id": "f35234b2",
   "metadata": {},
   "outputs": [],
   "source": [
    "# Feature Selection\n",
    "X = churndf.drop('Churn', axis=1).values\n",
    "y = churndf['Churn']"
   ]
  },
  {
   "cell_type": "code",
   "execution_count": 19,
   "id": "4a6a5ef0",
   "metadata": {},
   "outputs": [
    {
     "data": {
      "text/plain": [
       "DecisionTreeClassifier(criterion='entropy', max_depth=10, random_state=15)"
      ]
     },
     "execution_count": 19,
     "metadata": {},
     "output_type": "execute_result"
    }
   ],
   "source": [
    "# Which feature have the most impact on the model\n",
    "dt  = DecisionTreeClassifier(random_state=15, criterion='entropy', max_depth=10)\n",
    "dt.fit(X,y)"
   ]
  },
  {
   "cell_type": "code",
   "execution_count": 20,
   "id": "31f871e4",
   "metadata": {},
   "outputs": [
    {
     "data": {
      "text/html": [
       "<div>\n",
       "<style scoped>\n",
       "    .dataframe tbody tr th:only-of-type {\n",
       "        vertical-align: middle;\n",
       "    }\n",
       "\n",
       "    .dataframe tbody tr th {\n",
       "        vertical-align: top;\n",
       "    }\n",
       "\n",
       "    .dataframe thead th {\n",
       "        text-align: right;\n",
       "    }\n",
       "</style>\n",
       "<table border=\"1\" class=\"dataframe\">\n",
       "  <thead>\n",
       "    <tr style=\"text-align: right;\">\n",
       "      <th></th>\n",
       "      <th>index</th>\n",
       "      <th>Feature</th>\n",
       "      <th>Feature Importance</th>\n",
       "    </tr>\n",
       "  </thead>\n",
       "  <tbody>\n",
       "    <tr>\n",
       "      <th>0</th>\n",
       "      <td>4</td>\n",
       "      <td>Tenure</td>\n",
       "      <td>0.486569</td>\n",
       "    </tr>\n",
       "    <tr>\n",
       "      <th>1</th>\n",
       "      <td>5</td>\n",
       "      <td>MonthlyCharge</td>\n",
       "      <td>0.365573</td>\n",
       "    </tr>\n",
       "    <tr>\n",
       "      <th>2</th>\n",
       "      <td>2</td>\n",
       "      <td>Income</td>\n",
       "      <td>0.057896</td>\n",
       "    </tr>\n",
       "    <tr>\n",
       "      <th>3</th>\n",
       "      <td>1</td>\n",
       "      <td>Age</td>\n",
       "      <td>0.045103</td>\n",
       "    </tr>\n",
       "    <tr>\n",
       "      <th>4</th>\n",
       "      <td>0</td>\n",
       "      <td>Children</td>\n",
       "      <td>0.014164</td>\n",
       "    </tr>\n",
       "    <tr>\n",
       "      <th>5</th>\n",
       "      <td>3</td>\n",
       "      <td>Gender</td>\n",
       "      <td>0.008041</td>\n",
       "    </tr>\n",
       "    <tr>\n",
       "      <th>6</th>\n",
       "      <td>7</td>\n",
       "      <td>Marital_Divorced</td>\n",
       "      <td>0.005944</td>\n",
       "    </tr>\n",
       "    <tr>\n",
       "      <th>7</th>\n",
       "      <td>10</td>\n",
       "      <td>Marital_Separated</td>\n",
       "      <td>0.004891</td>\n",
       "    </tr>\n",
       "    <tr>\n",
       "      <th>8</th>\n",
       "      <td>9</td>\n",
       "      <td>Marital_Never Married</td>\n",
       "      <td>0.004796</td>\n",
       "    </tr>\n",
       "    <tr>\n",
       "      <th>9</th>\n",
       "      <td>8</td>\n",
       "      <td>Marital_Married</td>\n",
       "      <td>0.004620</td>\n",
       "    </tr>\n",
       "    <tr>\n",
       "      <th>10</th>\n",
       "      <td>11</td>\n",
       "      <td>Marital_Widowed</td>\n",
       "      <td>0.002402</td>\n",
       "    </tr>\n",
       "    <tr>\n",
       "      <th>11</th>\n",
       "      <td>6</td>\n",
       "      <td>intercept</td>\n",
       "      <td>0.000000</td>\n",
       "    </tr>\n",
       "  </tbody>\n",
       "</table>\n",
       "</div>"
      ],
      "text/plain": [
       "    index                Feature  Feature Importance\n",
       "0       4                 Tenure            0.486569\n",
       "1       5          MonthlyCharge            0.365573\n",
       "2       2                 Income            0.057896\n",
       "3       1                    Age            0.045103\n",
       "4       0               Children            0.014164\n",
       "5       3                 Gender            0.008041\n",
       "6       7       Marital_Divorced            0.005944\n",
       "7      10      Marital_Separated            0.004891\n",
       "8       9  Marital_Never Married            0.004796\n",
       "9       8        Marital_Married            0.004620\n",
       "10     11        Marital_Widowed            0.002402\n",
       "11      6              intercept            0.000000"
      ]
     },
     "execution_count": 20,
     "metadata": {},
     "output_type": "execute_result"
    }
   ],
   "source": [
    "# I will be using the 'feature_importances_' \n",
    "# from the 'DecisionTreeClassifier' to identify which feature have the most impact\n",
    "\n",
    "fi_col = []\n",
    "fi = []\n",
    "for k, v in enumerate(churndf.drop('Churn', axis=1)):\n",
    "    #print('{} is {}'.format(v, dt.feature_importances_[k]))\n",
    "    fi_col.append(v)\n",
    "    fi.append(dt.feature_importances_[k])\n",
    "fi_df = zip(fi_col, fi)\n",
    "fi_df = pd.DataFrame(fi_df, columns=['Feature', 'Feature Importance'])\n",
    "fi_df.sort_values('Feature Importance', ascending= False).reset_index()"
   ]
  },
  {
   "cell_type": "markdown",
   "id": "aaed4576",
   "metadata": {},
   "source": [
    "I will use the 'Tenure' and 'MonthlyCharge' as they seem to have the most impact (and are statistically significant) on the churn based on their 'Feature Importance'."
   ]
  },
  {
   "cell_type": "markdown",
   "id": "0f779d37",
   "metadata": {},
   "source": [
    "## E.  Analyze the data set using your reduced logistic regression model by doing the following:\n",
    "#### 1.  Explain your data analysis process by comparing the initial and reduced logistic regression models, including the following elements:\n",
    "     •  The logic of the variable selection technique\n",
    "     •  The model evaluation metric"
   ]
  },
  {
   "cell_type": "code",
   "execution_count": 21,
   "id": "1325ecea",
   "metadata": {
    "scrolled": true
   },
   "outputs": [
    {
     "name": "stdout",
     "output_type": "stream",
     "text": [
      "Optimization terminated successfully.\n",
      "         Current function value: 0.342087\n",
      "         Iterations 8\n"
     ]
    },
    {
     "data": {
      "text/html": [
       "<table class=\"simpletable\">\n",
       "<caption>Logit Regression Results</caption>\n",
       "<tr>\n",
       "  <th>Dep. Variable:</th>         <td>Churn</td>      <th>  No. Observations:  </th>  <td> 10000</td> \n",
       "</tr>\n",
       "<tr>\n",
       "  <th>Model:</th>                 <td>Logit</td>      <th>  Df Residuals:      </th>  <td>  9997</td> \n",
       "</tr>\n",
       "<tr>\n",
       "  <th>Method:</th>                 <td>MLE</td>       <th>  Df Model:          </th>  <td>     2</td> \n",
       "</tr>\n",
       "<tr>\n",
       "  <th>Date:</th>            <td>Wed, 29 Dec 2021</td> <th>  Pseudo R-squ.:     </th>  <td>0.4084</td> \n",
       "</tr>\n",
       "<tr>\n",
       "  <th>Time:</th>                <td>12:32:48</td>     <th>  Log-Likelihood:    </th> <td> -3420.9</td>\n",
       "</tr>\n",
       "<tr>\n",
       "  <th>converged:</th>             <td>True</td>       <th>  LL-Null:           </th> <td> -5782.2</td>\n",
       "</tr>\n",
       "<tr>\n",
       "  <th>Covariance Type:</th>     <td>nonrobust</td>    <th>  LLR p-value:       </th>  <td> 0.000</td> \n",
       "</tr>\n",
       "</table>\n",
       "<table class=\"simpletable\">\n",
       "<tr>\n",
       "        <td></td>           <th>coef</th>     <th>std err</th>      <th>z</th>      <th>P>|z|</th>  <th>[0.025</th>    <th>0.975]</th>  \n",
       "</tr>\n",
       "<tr>\n",
       "  <th>Tenure</th>        <td>   -0.0738</td> <td>    0.002</td> <td>  -41.788</td> <td> 0.000</td> <td>   -0.077</td> <td>   -0.070</td>\n",
       "</tr>\n",
       "<tr>\n",
       "  <th>MonthlyCharge</th> <td>    0.0332</td> <td>    0.001</td> <td>   37.119</td> <td> 0.000</td> <td>    0.031</td> <td>    0.035</td>\n",
       "</tr>\n",
       "<tr>\n",
       "  <th>intercept</th>     <td>   -5.1525</td> <td>    0.150</td> <td>  -34.283</td> <td> 0.000</td> <td>   -5.447</td> <td>   -4.858</td>\n",
       "</tr>\n",
       "</table>"
      ],
      "text/plain": [
       "<class 'statsmodels.iolib.summary.Summary'>\n",
       "\"\"\"\n",
       "                           Logit Regression Results                           \n",
       "==============================================================================\n",
       "Dep. Variable:                  Churn   No. Observations:                10000\n",
       "Model:                          Logit   Df Residuals:                     9997\n",
       "Method:                           MLE   Df Model:                            2\n",
       "Date:                Wed, 29 Dec 2021   Pseudo R-squ.:                  0.4084\n",
       "Time:                        12:32:48   Log-Likelihood:                -3420.9\n",
       "converged:                       True   LL-Null:                       -5782.2\n",
       "Covariance Type:            nonrobust   LLR p-value:                     0.000\n",
       "=================================================================================\n",
       "                    coef    std err          z      P>|z|      [0.025      0.975]\n",
       "---------------------------------------------------------------------------------\n",
       "Tenure           -0.0738      0.002    -41.788      0.000      -0.077      -0.070\n",
       "MonthlyCharge     0.0332      0.001     37.119      0.000       0.031       0.035\n",
       "intercept        -5.1525      0.150    -34.283      0.000      -5.447      -4.858\n",
       "=================================================================================\n",
       "\"\"\""
      ]
     },
     "execution_count": 21,
     "metadata": {},
     "output_type": "execute_result"
    }
   ],
   "source": [
    "churndf_logit_reduced_model = sm.Logit(churndf['Churn'], churndf[['Tenure','MonthlyCharge','intercept']]).fit()\n",
    "churndf_logit_reduced_model.summary()"
   ]
  },
  {
   "cell_type": "markdown",
   "id": "d79206ff",
   "metadata": {},
   "source": [
    "Pseudo R-squared went down by .008 points after removing features from the initial model. This means the omitted column did not have much effect on the model. The reduced model also points to 40% of the variance when compared to the initial model.\n",
    "\n",
    "Reduced Linear Regression Model: churn = -5.1525 + (-0.0738 *  Tenure) + (0.0332 * MonthlyCharge)"
   ]
  },
  {
   "cell_type": "code",
   "execution_count": 22,
   "id": "e629c65d",
   "metadata": {
    "scrolled": true
   },
   "outputs": [
    {
     "name": "stdout",
     "output_type": "stream",
     "text": [
      "Initial Model AIC: 6847.702731665484 compared to Reduced Model 6847.73415590327\n",
      "This proves that the Reduced model is a better fit for the data as the AIC is higher.\n"
     ]
    }
   ],
   "source": [
    "print('Initial Model AIC: {} compared to Reduced Model {}'.format(Initial_model_logit_model.aic,churndf_logit_reduced_model.aic))\n",
    "print('This proves that the Reduced model is a better fit for the data as the AIC is higher.')"
   ]
  },
  {
   "cell_type": "markdown",
   "id": "3fd977a7",
   "metadata": {},
   "source": [
    "#### 2.  Provide the output and any calculations of the analysis you performed, including a confusion matrix.\n",
    "    Note: The output should include the predictions from the refined model you used to perform the analysis. "
   ]
  },
  {
   "cell_type": "code",
   "execution_count": 23,
   "id": "98885398",
   "metadata": {},
   "outputs": [],
   "source": [
    "from sklearn.model_selection import train_test_split\n",
    "from sklearn.linear_model import LogisticRegression"
   ]
  },
  {
   "cell_type": "code",
   "execution_count": 24,
   "id": "0ae4150d",
   "metadata": {},
   "outputs": [
    {
     "data": {
      "text/plain": [
       "LogisticRegression(random_state=0, solver='liblinear')"
      ]
     },
     "execution_count": 24,
     "metadata": {},
     "output_type": "execute_result"
    }
   ],
   "source": [
    "# Train the model\n",
    "x_train, X_test, y_train, Y_test = train_test_split(X,y, test_size=.02, random_state=0)\n",
    "classifier = LogisticRegression(random_state=0, solver='liblinear')\n",
    "classifier.fit(x_train, y_train)"
   ]
  },
  {
   "cell_type": "code",
   "execution_count": 25,
   "id": "5aff76cf",
   "metadata": {},
   "outputs": [],
   "source": [
    "# Prediction\n",
    "y_pred = classifier.predict(X_test)"
   ]
  },
  {
   "cell_type": "code",
   "execution_count": 26,
   "id": "cc0c3287",
   "metadata": {},
   "outputs": [
    {
     "name": "stdout",
     "output_type": "stream",
     "text": [
      "[[128  20]\n",
      " [ 17  35]]\n"
     ]
    }
   ],
   "source": [
    "# Implementing confusion matrix\n",
    "from sklearn.metrics import confusion_matrix\n",
    "matrix = confusion_matrix(Y_test, y_pred)\n",
    "print(matrix)"
   ]
  },
  {
   "cell_type": "code",
   "execution_count": 27,
   "id": "8704856d",
   "metadata": {
    "scrolled": true
   },
   "outputs": [
    {
     "data": {
      "text/plain": [
       "<AxesSubplot:>"
      ]
     },
     "execution_count": 27,
     "metadata": {},
     "output_type": "execute_result"
    },
    {
     "data": {
      "image/png": "[encoded data removed]",
      "text/plain": [
       "<Figure size 432x288 with 2 Axes>"
      ]
     },
     "metadata": {
      "needs_background": "light"
     },
     "output_type": "display_data"
    }
   ],
   "source": [
    "# Heatmap of the Y_test and Y_pred\n",
    "y_predict_test = classifier.predict(X_test)\n",
    "n_matrix = confusion_matrix(Y_test, y_pred)\n",
    "sns.heatmap(n_matrix, annot=True)"
   ]
  },
  {
   "cell_type": "code",
   "execution_count": 28,
   "id": "238561e2",
   "metadata": {},
   "outputs": [
    {
     "name": "stdout",
     "output_type": "stream",
     "text": [
      "              precision    recall  f1-score   support\n",
      "\n",
      "           0       0.88      0.86      0.87       148\n",
      "           1       0.64      0.67      0.65        52\n",
      "\n",
      "    accuracy                           0.81       200\n",
      "   macro avg       0.76      0.77      0.76       200\n",
      "weighted avg       0.82      0.81      0.82       200\n",
      "\n"
     ]
    }
   ],
   "source": [
    "# Classification report of the precision\n",
    "from sklearn.metrics import classification_report\n",
    "print(classification_report(Y_test,y_pred))"
   ]
  },
  {
   "cell_type": "markdown",
   "id": "87d9177a",
   "metadata": {},
   "source": [
    "#### 3.  Provide the code used to support the implementation of the logistic regression models.\n",
    "\n",
    "The code is available above."
   ]
  },
  {
   "cell_type": "markdown",
   "id": "cffc934e",
   "metadata": {},
   "source": [
    "## Part V: Data Summary and Implications\n",
    "### F.  Summarize your findings and assumptions by doing the following:\n",
    "#### 1.  Discuss the results of your data analysis, including the following elements:\n",
    "\n",
    "Regression equation for the reduced model is Churn = -5.1525 + (-0.0738 * tenure) + (0.0332 * MonthlyCharge)\n",
    " \n",
    "There is an inverse relationship between the Churn and selected predictors. Following predictors 'Age', 'Children' and 'Income' were removed as they do not have much impact on the decision-making process. The model predicts that each one unit change of:\n",
    "    - Tenure will decrease Churn by  -0.0738\n",
    "    - MonthlyCharge will increase Churn by 0.0332\n",
    "\n",
    "To the company it means, they need to focus on the needs of the new joiners as they have a higher tendency to churn.\n",
    "\n",
    "P-values for Tenure and MonthlyCharge are statistically significant at '0.000' which mean they will have an impact on the Churn rate.\n",
    "\n",
    "Limitations: The data is limited to 10,000 rows and having a bigger dataset would provide a deep understanding.\n",
    "\n",
    "#### 2.  Recommend a course of action based on your results:\n",
    "\n",
    "The above analysis informs the company that customers with less tenure (i.e., month-to-month contract) and high cost tend to have a high churn. The stakeholders need to further invest in market analysis to identify what is a competitive price for services and the marketing team needs to come up with products and services that will create an eco-system for the customer which will decrease the Churn rate."
   ]
  },
  {
   "cell_type": "markdown",
   "id": "642372ff",
   "metadata": {},
   "source": [
    "### Part VI: Demonstration\n",
    "#### H.  List the web sources used to acquire data or segments of third-party code to support the application. Ensure the web sources are reliable.\n",
    "\n",
    "```{bibliography}\n",
    "Pandas. (2021). Pandas DataFrames. https://pandas.pydata.org/pandas-docs/stable/reference/api/pandas.DataFrame.dtypes.html\n",
    "\n",
    "Get started with references. (2021). Jupyterbook. https://jupyterbook.org/tutorials/references.html#tutorials-references\n",
    "\n",
    "Marques, A. M. (2020, March 11). How to show all columns / rows of a Pandas Dataframe? Towards Data Science. https://towardsdatascience.com/how-to-show-all-columns-rows-of-a-pandas-dataframe-c49d4507fcf\n",
    "\n",
    "Starmer, J. (2018, March 5). StatQuest: Logistic Regression. YouTube. https://www.youtube.com/watch?v=yIYKR4sgzI8&t=121s\n",
    "\n",
    "V. (2019, July 21). Pandas: Apply a function to single or selected columns or rows in Dataframe. ThisPointer. https://thispointer.com/pandas-apply-a-function-to-single-or-selected-columns-or-rows-in-dataframe/\n",
    "\n",
    "Wijaya, C. Y. (2021, December 15). 5 Must-Know Dimensionality Reduction Techniques via Prince. Medium. https://towardsdatascience.com/5-must-know-dimensionality-reduction-techniques-via-prince-e6ffb27e55d1\n",
    "```\n",
    "\n",
    "#### I.  Acknowledge sources, using in-text citations and references, for content that is quoted, paraphrased, or summarized.\n",
    "\n",
    "```{bibliography}\n",
    "Chantal D. Larose, & Daniel T. Larose. (2019). Data Science Using Python and R. Wiley.\n",
    "```"
   ]
  },
  {
   "cell_type": "markdown",
   "id": "de7939e6",
   "metadata": {},
   "source": [
    "Panapto: https://wgu.hosted.panopto.com/Panopto/Pages/Viewer.aspx?id=9b03a655-c301-414f-b1c3-ae0d00ce9f9b"
   ]
  }
 ],
 "metadata": {
  "kernelspec": {
   "display_name": "Python 3 (ipykernel)",
   "language": "python",
   "name": "python3"
  },
  "language_info": {
   "codemirror_mode": {
    "name": "ipython",
    "version": 3
   },
   "file_extension": ".py",
   "mimetype": "text/x-python",
   "name": "python",
   "nbconvert_exporter": "python",
   "pygments_lexer": "ipython3",
   "version": "3.9.12"
  }
 },
 "nbformat": 4,
 "nbformat_minor": 5
}
